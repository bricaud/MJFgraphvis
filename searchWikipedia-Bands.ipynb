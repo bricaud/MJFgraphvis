{
 "cells": [
  {
   "cell_type": "markdown",
   "metadata": {},
   "source": [
    "## Search Wikipedia for infos about BANDS of the MJF, save them in a json file"
   ]
  },
  {
   "cell_type": "markdown",
   "metadata": {},
   "source": [
    "Info from concerts are first loaded from a csv file. We need \n",
    "* the name of the concert (usually the name of the concert is the name of the artist)\n",
    "* its ID in the MJF database.\n",
    "\n",
    "We then use the Wikipedia toolbox to search Wikipedia for the name of the concert. We then record the summary of the page, the list of images url, the categories of the page.\n",
    "We use a Pandas dataframe to store the information. \n",
    "Eventually we save the dataframe as a json object and to a json file."
   ]
  },
  {
   "cell_type": "code",
   "execution_count": 1,
   "metadata": {
    "collapsed": false
   },
   "outputs": [],
   "source": [
    "import pandas as pd"
   ]
  },
  {
   "cell_type": "markdown",
   "metadata": {},
   "source": [
    "Load the concert file"
   ]
  },
  {
   "cell_type": "code",
   "execution_count": 4,
   "metadata": {
    "collapsed": false
   },
   "outputs": [],
   "source": [
    "CList = pd.read_csv('bands.csv',header=None,names=['id','name'],keep_default_na=False)    "
   ]
  },
  {
   "cell_type": "code",
   "execution_count": 5,
   "metadata": {
    "collapsed": false
   },
   "outputs": [
    {
     "data": {
      "text/html": [
       "<div>\n",
       "<table border=\"1\" class=\"dataframe\">\n",
       "  <thead>\n",
       "    <tr style=\"text-align: right;\">\n",
       "      <th></th>\n",
       "      <th>id</th>\n",
       "      <th>name</th>\n",
       "    </tr>\n",
       "  </thead>\n",
       "  <tbody>\n",
       "    <tr>\n",
       "      <th>0</th>\n",
       "      <td>13</td>\n",
       "      <td>Amy Macdonald</td>\n",
       "    </tr>\n",
       "    <tr>\n",
       "      <th>1</th>\n",
       "      <td>14</td>\n",
       "      <td>Jorge Ben Jor</td>\n",
       "    </tr>\n",
       "    <tr>\n",
       "      <th>2</th>\n",
       "      <td>15</td>\n",
       "      <td>Afrocubism</td>\n",
       "    </tr>\n",
       "    <tr>\n",
       "      <th>3</th>\n",
       "      <td>16</td>\n",
       "      <td>Kassav'</td>\n",
       "    </tr>\n",
       "    <tr>\n",
       "      <th>4</th>\n",
       "      <td>17</td>\n",
       "      <td>Little Feat</td>\n",
       "    </tr>\n",
       "    <tr>\n",
       "      <th>5</th>\n",
       "      <td>18</td>\n",
       "      <td>Jethro Tull's Ian Anderson</td>\n",
       "    </tr>\n",
       "    <tr>\n",
       "      <th>6</th>\n",
       "      <td>19</td>\n",
       "      <td>Alabama Shakes</td>\n",
       "    </tr>\n",
       "    <tr>\n",
       "      <th>7</th>\n",
       "      <td>20</td>\n",
       "      <td>Alanis Morissette</td>\n",
       "    </tr>\n",
       "    <tr>\n",
       "      <th>8</th>\n",
       "      <td>21</td>\n",
       "      <td>Katie Melua</td>\n",
       "    </tr>\n",
       "    <tr>\n",
       "      <th>9</th>\n",
       "      <td>22</td>\n",
       "      <td>Jamie N Commons</td>\n",
       "    </tr>\n",
       "    <tr>\n",
       "      <th>10</th>\n",
       "      <td>23</td>\n",
       "      <td>Noel Gallagher High Flying Birds</td>\n",
       "    </tr>\n",
       "    <tr>\n",
       "      <th>11</th>\n",
       "      <td>24</td>\n",
       "      <td>Bombay Bicycle Club</td>\n",
       "    </tr>\n",
       "    <tr>\n",
       "      <th>12</th>\n",
       "      <td>25</td>\n",
       "      <td>Erykah Badu</td>\n",
       "    </tr>\n",
       "    <tr>\n",
       "      <th>13</th>\n",
       "      <td>26</td>\n",
       "      <td>Luiz Melodia</td>\n",
       "    </tr>\n",
       "    <tr>\n",
       "      <th>14</th>\n",
       "      <td>27</td>\n",
       "      <td>Cidade Negra</td>\n",
       "    </tr>\n",
       "    <tr>\n",
       "      <th>15</th>\n",
       "      <td>28</td>\n",
       "      <td>Van Morrison</td>\n",
       "    </tr>\n",
       "    <tr>\n",
       "      <th>16</th>\n",
       "      <td>29</td>\n",
       "      <td>Buddy Guy</td>\n",
       "    </tr>\n",
       "    <tr>\n",
       "      <th>17</th>\n",
       "      <td>30</td>\n",
       "      <td>Chicago Blues - A Living History</td>\n",
       "    </tr>\n",
       "    <tr>\n",
       "      <th>18</th>\n",
       "      <td>31</td>\n",
       "      <td>Bob Dylan</td>\n",
       "    </tr>\n",
       "    <tr>\n",
       "      <th>19</th>\n",
       "      <td>32</td>\n",
       "      <td>Labrinth</td>\n",
       "    </tr>\n",
       "    <tr>\n",
       "      <th>20</th>\n",
       "      <td>33</td>\n",
       "      <td>Pitbull</td>\n",
       "    </tr>\n",
       "    <tr>\n",
       "      <th>21</th>\n",
       "      <td>34</td>\n",
       "      <td>Nick Waterhouse</td>\n",
       "    </tr>\n",
       "    <tr>\n",
       "      <th>22</th>\n",
       "      <td>35</td>\n",
       "      <td>Anastacia</td>\n",
       "    </tr>\n",
       "    <tr>\n",
       "      <th>23</th>\n",
       "      <td>36</td>\n",
       "      <td>Herbie Hancock</td>\n",
       "    </tr>\n",
       "    <tr>\n",
       "      <th>24</th>\n",
       "      <td>37</td>\n",
       "      <td>Fourplay</td>\n",
       "    </tr>\n",
       "    <tr>\n",
       "      <th>25</th>\n",
       "      <td>38</td>\n",
       "      <td>Sergio Mendes</td>\n",
       "    </tr>\n",
       "    <tr>\n",
       "      <th>26</th>\n",
       "      <td>39</td>\n",
       "      <td>Nightwish</td>\n",
       "    </tr>\n",
       "    <tr>\n",
       "      <th>27</th>\n",
       "      <td>40</td>\n",
       "      <td>69 Chambers</td>\n",
       "    </tr>\n",
       "    <tr>\n",
       "      <th>28</th>\n",
       "      <td>41</td>\n",
       "      <td>Herbert Gronemeyer</td>\n",
       "    </tr>\n",
       "    <tr>\n",
       "      <th>29</th>\n",
       "      <td>43</td>\n",
       "      <td>Taj Mahal Trio</td>\n",
       "    </tr>\n",
       "    <tr>\n",
       "      <th>...</th>\n",
       "      <td>...</td>\n",
       "      <td>...</td>\n",
       "    </tr>\n",
       "    <tr>\n",
       "      <th>2360</th>\n",
       "      <td>2957</td>\n",
       "      <td>Joke</td>\n",
       "    </tr>\n",
       "    <tr>\n",
       "      <th>2361</th>\n",
       "      <td>2958</td>\n",
       "      <td>Chick Corea &amp; Herbie Hancock</td>\n",
       "    </tr>\n",
       "    <tr>\n",
       "      <th>2362</th>\n",
       "      <td>2959</td>\n",
       "      <td>Jacob Collier</td>\n",
       "    </tr>\n",
       "    <tr>\n",
       "      <th>2363</th>\n",
       "      <td>2960</td>\n",
       "      <td>A$AP Rocky</td>\n",
       "    </tr>\n",
       "    <tr>\n",
       "      <th>2364</th>\n",
       "      <td>2962</td>\n",
       "      <td>Alita Moses</td>\n",
       "    </tr>\n",
       "    <tr>\n",
       "      <th>2365</th>\n",
       "      <td>2964</td>\n",
       "      <td>Jerry Léonide Backing Band</td>\n",
       "    </tr>\n",
       "    <tr>\n",
       "      <th>2366</th>\n",
       "      <td>2966</td>\n",
       "      <td>Fred Bintner Backing Band</td>\n",
       "    </tr>\n",
       "    <tr>\n",
       "      <th>2367</th>\n",
       "      <td>2967</td>\n",
       "      <td>Zacharie Abraham Backing Band</td>\n",
       "    </tr>\n",
       "    <tr>\n",
       "      <th>2368</th>\n",
       "      <td>2968</td>\n",
       "      <td>Aaron</td>\n",
       "    </tr>\n",
       "    <tr>\n",
       "      <th>2369</th>\n",
       "      <td>2969</td>\n",
       "      <td>Asaf Avidan</td>\n",
       "    </tr>\n",
       "    <tr>\n",
       "      <th>2370</th>\n",
       "      <td>2970</td>\n",
       "      <td>Zaz</td>\n",
       "    </tr>\n",
       "    <tr>\n",
       "      <th>2371</th>\n",
       "      <td>2971</td>\n",
       "      <td>Chedid</td>\n",
       "    </tr>\n",
       "    <tr>\n",
       "      <th>2372</th>\n",
       "      <td>2972</td>\n",
       "      <td>Isaac Delusion</td>\n",
       "    </tr>\n",
       "    <tr>\n",
       "      <th>2373</th>\n",
       "      <td>2973</td>\n",
       "      <td>SOMI</td>\n",
       "    </tr>\n",
       "    <tr>\n",
       "      <th>2374</th>\n",
       "      <td>2974</td>\n",
       "      <td>\\Beyond the Memory\\\" Tour\"</td>\n",
       "    </tr>\n",
       "    <tr>\n",
       "      <th>2375</th>\n",
       "      <td>2975</td>\n",
       "      <td>Caro Emerlad</td>\n",
       "    </tr>\n",
       "    <tr>\n",
       "      <th>2376</th>\n",
       "      <td>2976</td>\n",
       "      <td>Claude Nobs</td>\n",
       "    </tr>\n",
       "    <tr>\n",
       "      <th>2377</th>\n",
       "      <td>2977</td>\n",
       "      <td>Robert Lakatos</td>\n",
       "    </tr>\n",
       "    <tr>\n",
       "      <th>2378</th>\n",
       "      <td>2978</td>\n",
       "      <td>Joe Sample</td>\n",
       "    </tr>\n",
       "    <tr>\n",
       "      <th>2379</th>\n",
       "      <td>2979</td>\n",
       "      <td>Michel Camilo</td>\n",
       "    </tr>\n",
       "    <tr>\n",
       "      <th>2380</th>\n",
       "      <td>2980</td>\n",
       "      <td>Jean-Pierre Schaller</td>\n",
       "    </tr>\n",
       "    <tr>\n",
       "      <th>2381</th>\n",
       "      <td>2981</td>\n",
       "      <td>The Art of 4</td>\n",
       "    </tr>\n",
       "    <tr>\n",
       "      <th>2382</th>\n",
       "      <td>2982</td>\n",
       "      <td>The Manhattan Transfer</td>\n",
       "    </tr>\n",
       "    <tr>\n",
       "      <th>2383</th>\n",
       "      <td>2983</td>\n",
       "      <td>Daniel Szabo</td>\n",
       "    </tr>\n",
       "    <tr>\n",
       "      <th>2384</th>\n",
       "      <td>2984</td>\n",
       "      <td>Ray Brown</td>\n",
       "    </tr>\n",
       "    <tr>\n",
       "      <th>2385</th>\n",
       "      <td>2985</td>\n",
       "      <td>Jimmy Scott &amp; The Jazz Expressions</td>\n",
       "    </tr>\n",
       "    <tr>\n",
       "      <th>2386</th>\n",
       "      <td>2986</td>\n",
       "      <td>Lea DeLaria</td>\n",
       "    </tr>\n",
       "    <tr>\n",
       "      <th>2387</th>\n",
       "      <td>2987</td>\n",
       "      <td>Stephan Eicher &amp; Lost and Found Orchestra</td>\n",
       "    </tr>\n",
       "    <tr>\n",
       "      <th>2388</th>\n",
       "      <td>2988</td>\n",
       "      <td>Bob Stannard &amp; Chris Kleeman</td>\n",
       "    </tr>\n",
       "    <tr>\n",
       "      <th>2389</th>\n",
       "      <td>2991</td>\n",
       "      <td>Diego El Cigale</td>\n",
       "    </tr>\n",
       "  </tbody>\n",
       "</table>\n",
       "<p>2390 rows × 2 columns</p>\n",
       "</div>"
      ],
      "text/plain": [
       "        id                                       name\n",
       "0       13                              Amy Macdonald\n",
       "1       14                              Jorge Ben Jor\n",
       "2       15                                 Afrocubism\n",
       "3       16                                    Kassav'\n",
       "4       17                                Little Feat\n",
       "5       18                 Jethro Tull's Ian Anderson\n",
       "6       19                             Alabama Shakes\n",
       "7       20                          Alanis Morissette\n",
       "8       21                                Katie Melua\n",
       "9       22                            Jamie N Commons\n",
       "10      23           Noel Gallagher High Flying Birds\n",
       "11      24                        Bombay Bicycle Club\n",
       "12      25                                Erykah Badu\n",
       "13      26                               Luiz Melodia\n",
       "14      27                               Cidade Negra\n",
       "15      28                               Van Morrison\n",
       "16      29                                  Buddy Guy\n",
       "17      30           Chicago Blues - A Living History\n",
       "18      31                                  Bob Dylan\n",
       "19      32                                   Labrinth\n",
       "20      33                                    Pitbull\n",
       "21      34                            Nick Waterhouse\n",
       "22      35                                  Anastacia\n",
       "23      36                             Herbie Hancock\n",
       "24      37                                   Fourplay\n",
       "25      38                              Sergio Mendes\n",
       "26      39                                  Nightwish\n",
       "27      40                                69 Chambers\n",
       "28      41                         Herbert Gronemeyer\n",
       "29      43                             Taj Mahal Trio\n",
       "...    ...                                        ...\n",
       "2360  2957                                       Joke\n",
       "2361  2958               Chick Corea & Herbie Hancock\n",
       "2362  2959                              Jacob Collier\n",
       "2363  2960                                 A$AP Rocky\n",
       "2364  2962                                Alita Moses\n",
       "2365  2964                 Jerry Léonide Backing Band\n",
       "2366  2966                  Fred Bintner Backing Band\n",
       "2367  2967              Zacharie Abraham Backing Band\n",
       "2368  2968                                      Aaron\n",
       "2369  2969                                Asaf Avidan\n",
       "2370  2970                                        Zaz\n",
       "2371  2971                                     Chedid\n",
       "2372  2972                             Isaac Delusion\n",
       "2373  2973                                       SOMI\n",
       "2374  2974                 \\Beyond the Memory\\\" Tour\"\n",
       "2375  2975                               Caro Emerlad\n",
       "2376  2976                                Claude Nobs\n",
       "2377  2977                             Robert Lakatos\n",
       "2378  2978                                 Joe Sample\n",
       "2379  2979                              Michel Camilo\n",
       "2380  2980                       Jean-Pierre Schaller\n",
       "2381  2981                               The Art of 4\n",
       "2382  2982                     The Manhattan Transfer\n",
       "2383  2983                               Daniel Szabo\n",
       "2384  2984                                  Ray Brown\n",
       "2385  2985         Jimmy Scott & The Jazz Expressions\n",
       "2386  2986                                Lea DeLaria\n",
       "2387  2987  Stephan Eicher & Lost and Found Orchestra\n",
       "2388  2988               Bob Stannard & Chris Kleeman\n",
       "2389  2991                            Diego El Cigale\n",
       "\n",
       "[2390 rows x 2 columns]"
      ]
     },
     "execution_count": 5,
     "metadata": {},
     "output_type": "execute_result"
    }
   ],
   "source": [
    "CList"
   ]
  },
  {
   "cell_type": "markdown",
   "metadata": {},
   "source": [
    "Listing the names"
   ]
  },
  {
   "cell_type": "code",
   "execution_count": 6,
   "metadata": {
    "collapsed": false
   },
   "outputs": [
    {
     "data": {
      "text/plain": [
       "2390"
      ]
     },
     "execution_count": 6,
     "metadata": {},
     "output_type": "execute_result"
    }
   ],
   "source": [
    "len(CList)"
   ]
  },
  {
   "cell_type": "markdown",
   "metadata": {},
   "source": [
    "### Perform the Wikipedia search"
   ]
  },
  {
   "cell_type": "code",
   "execution_count": 7,
   "metadata": {
    "collapsed": false
   },
   "outputs": [],
   "source": [
    "import wikipedia as wk\n",
    "import time"
   ]
  },
  {
   "cell_type": "code",
   "execution_count": 8,
   "metadata": {
    "collapsed": true
   },
   "outputs": [],
   "source": [
    "# function to get the information from the page\n",
    "def getWresults(Wkresults):\n",
    "    categories = []\n",
    "    images = []\n",
    "    summary = ''\n",
    "    success = 1\n",
    "    try:\n",
    "        Wpage = wk.page(Wkresults)\n",
    "    except:\n",
    "        success = 0\n",
    "    if success:\n",
    "        try:\n",
    "            images = Wpage.images\n",
    "        except:\n",
    "            pass\n",
    "    if success:\n",
    "        try:\n",
    "            summary = Wpage.summary\n",
    "        except:\n",
    "            pass\n",
    "    if success:\n",
    "        try:\n",
    "            categories = Wpage.categories\n",
    "        except:\n",
    "            pass\n",
    "    return categories,images,summary"
   ]
  },
  {
   "cell_type": "code",
   "execution_count": null,
   "metadata": {
    "collapsed": false,
    "scrolled": true
   },
   "outputs": [
    {
     "name": "stdout",
     "output_type": "stream",
     "text": [
      "0\n",
      "Mon Jul 25 14:51:44 2016\n",
      "10\n",
      "Mon Jul 25 14:52:21 2016\n",
      "20\n",
      "Mon Jul 25 14:52:49 2016\n"
     ]
    }
   ],
   "source": [
    "# Process to search Wikipedia\n",
    "# Take some time!\n",
    "slist = []\n",
    "sslist = []\n",
    "lcategories = []\n",
    "limages = []\n",
    "lsummary = []\n",
    "slcategories = []\n",
    "slimages = []\n",
    "slsummary = []\n",
    "\n",
    "for i in range(len(CList)):\n",
    "    searchQ = CList.name[i]\n",
    "    if searchQ:\n",
    "        Wkresults = wk.search(searchQ,results = 5,suggestion= True)\n",
    "        if Wkresults[0]:\n",
    "            slist.append(Wkresults[0][0])\n",
    "            categories,images,summary = getWresults(Wkresults[0][0])\n",
    "            lcategories.append(categories)\n",
    "            limages.append(images)\n",
    "            lsummary.append(summary)\n",
    "        else: \n",
    "            slist.append('')\n",
    "            lcategories.append([])\n",
    "            limages.append([])\n",
    "            lsummary.append('')\n",
    "        if Wkresults[1]:\n",
    "            sslist.append(Wkresults[1])\n",
    "            categories,images,summary = getWresults(Wkresults[1])\n",
    "            slcategories.append(categories)\n",
    "            slimages.append(images)\n",
    "            slsummary.append(summary)\n",
    "        else: \n",
    "            sslist.append('')\n",
    "            slcategories.append([])\n",
    "            slimages.append([])\n",
    "            slsummary.append('')\n",
    "    else: \n",
    "        sslist.append('')\n",
    "        slcategories.append([])\n",
    "        slimages.append([])\n",
    "        slsummary.append('')\n",
    "    if (not i%10):\n",
    "        print i\n",
    "        print time.ctime()"
   ]
  },
  {
   "cell_type": "code",
   "execution_count": 45,
   "metadata": {
    "collapsed": true
   },
   "outputs": [],
   "source": [
    "# Save the data in the pickle format\n",
    "import pickle\n",
    "pickle.dump(lsummary,open('savelsummaryband.p','wb'))\n",
    "pickle.dump(slsummary,open('saveslsummaryband.p','wb'))\n",
    "pickle.dump(slist,open('saveslistband.p','wb'))\n",
    "pickle.dump(sslist,open('savesslistband.p','wb'))\n",
    "pickle.dump(lcategories,open('savelcategoriesband.p','wb'))\n",
    "pickle.dump(slcategories,open('saveslcategoriesband.p','wb'))\n",
    "pickle.dump(limages,open('savelimagesband.p','wb'))\n",
    "pickle.dump(slimages,open('saveslimagesband.p','wb'))"
   ]
  },
  {
   "cell_type": "markdown",
   "metadata": {},
   "source": [
    "# Part 2: handle the data"
   ]
  },
  {
   "cell_type": "markdown",
   "metadata": {},
   "source": [
    "For each page the results are \n",
    "* a string for the search query used \n",
    "* a string for the summary\n",
    "* a list of strings for the categories\n",
    "* a list of strings for the images (list of images URL)\n",
    "\n",
    "List of strings have to be handled in different manners. For the categories, the string are concatenated together to form one single string. For the images, only one image is selected from the list (the first of the list), this image must be a jpg one. "
   ]
  },
  {
   "cell_type": "markdown",
   "metadata": {},
   "source": [
    "### Cast the lists into dataframes"
   ]
  },
  {
   "cell_type": "code",
   "execution_count": 50,
   "metadata": {
    "collapsed": false
   },
   "outputs": [],
   "source": [
    "dfslist  = pd.DataFrame(slist,columns=['searchQ'])\n",
    "dfsslist  = pd.DataFrame(sslist,columns=['sug_searchQ'])\n",
    "dflsummary  = pd.DataFrame(lsummary,columns=['summary'])\n",
    "dfslsummary = pd.DataFrame(slsummary,columns=['sug_summary'])"
   ]
  },
  {
   "cell_type": "code",
   "execution_count": 66,
   "metadata": {
    "collapsed": false
   },
   "outputs": [],
   "source": [
    "dfc = pd.concat([dfslist,dfsslist,dflsummary,dfslsummary],axis=1)"
   ]
  },
  {
   "cell_type": "markdown",
   "metadata": {},
   "source": [
    "### Sort images"
   ]
  },
  {
   "cell_type": "code",
   "execution_count": 159,
   "metadata": {
    "collapsed": true
   },
   "outputs": [],
   "source": [
    "filtimages = []\n",
    "for list in limages:\n",
    "    jpgimg =[]\n",
    "    for img in list:\n",
    "        if img[-3:].lower()=='jpg':\n",
    "            jpgimg.append(img)\n",
    "    filtimages.append(jpgimg)\n",
    "filtsimages = []\n",
    "for list in slimages:\n",
    "    jpgimg =[]\n",
    "    for img in list:\n",
    "        if img[-3:].lower()=='jpg':\n",
    "            jpgimg.append(img)\n",
    "    filtsimages.append(jpgimg)"
   ]
  },
  {
   "cell_type": "code",
   "execution_count": 160,
   "metadata": {
    "collapsed": false
   },
   "outputs": [],
   "source": [
    "# Take only the first image\n",
    "\n",
    "dflimages = pd.DataFrame(filtimages)\n",
    "dfslimages = pd.DataFrame(filtsimages)\n",
    "dfimg=pd.DataFrame(dflimages[0])\n",
    "dfimg.columns = ['image']\n",
    "dfsimg=pd.DataFrame(dfslimages[0])\n",
    "dfsimg.columns = ['sug_image']"
   ]
  },
  {
   "cell_type": "code",
   "execution_count": 162,
   "metadata": {
    "collapsed": false
   },
   "outputs": [],
   "source": [
    "dfci = pd.concat([dfc,dfimg,dfsimg],axis=1)"
   ]
  },
  {
   "cell_type": "markdown",
   "metadata": {},
   "source": [
    "### Turn the list of categories into strings and make a single column dataframe"
   ]
  },
  {
   "cell_type": "code",
   "execution_count": 103,
   "metadata": {
    "collapsed": false
   },
   "outputs": [],
   "source": [
    "categstring = []\n",
    "for list in lcategories:\n",
    "    strlist = ', '.join(list)\n",
    "    categstring.append(strlist)\n",
    "categstringsug = []\n",
    "for list in slcategories:\n",
    "    strlist = ', '.join(list)\n",
    "    categstringsug.append(strlist)"
   ]
  },
  {
   "cell_type": "code",
   "execution_count": 106,
   "metadata": {
    "collapsed": false
   },
   "outputs": [],
   "source": [
    "dflcategories  = pd.DataFrame(categstring,columns=['categories'])\n",
    "dfslcategories  = pd.DataFrame(categstringsug,columns=['sug_categories'])"
   ]
  },
  {
   "cell_type": "code",
   "execution_count": 163,
   "metadata": {
    "collapsed": true
   },
   "outputs": [],
   "source": [
    "dfcicat = pd.concat([dfci,dflcategories,dfslcategories],axis=1)"
   ]
  },
  {
   "cell_type": "markdown",
   "metadata": {},
   "source": [
    "### Index the dataframe by the MJF id"
   ]
  },
  {
   "cell_type": "code",
   "execution_count": 164,
   "metadata": {
    "collapsed": false
   },
   "outputs": [],
   "source": [
    "# Add the MJFid to the dataframe\n",
    "dff = pd.concat([dfcicat,CList.id],axis=1)"
   ]
  },
  {
   "cell_type": "code",
   "execution_count": 165,
   "metadata": {
    "collapsed": false
   },
   "outputs": [
    {
     "data": {
      "text/plain": [
       "Index([u'searchQ', u'sug_searchQ', u'summary', u'sug_summary', u'image',\n",
       "       u'sug_image', u'categories', u'sug_categories', u'id'],\n",
       "      dtype='object')"
      ]
     },
     "execution_count": 165,
     "metadata": {},
     "output_type": "execute_result"
    }
   ],
   "source": [
    "dff.columns"
   ]
  },
  {
   "cell_type": "code",
   "execution_count": 166,
   "metadata": {
    "collapsed": true
   },
   "outputs": [],
   "source": [
    "dffx = dff.set_index('id')"
   ]
  },
  {
   "cell_type": "code",
   "execution_count": 167,
   "metadata": {
    "collapsed": false
   },
   "outputs": [],
   "source": [
    "# Save the file\n",
    "import json\n",
    "with open('MJFdatabands.json', 'w') as f:\n",
    "    f.write(dffx.to_json(orient='index'))"
   ]
  },
  {
   "cell_type": "code",
   "execution_count": null,
   "metadata": {
    "collapsed": true
   },
   "outputs": [],
   "source": []
  }
 ],
 "metadata": {
  "kernelspec": {
   "display_name": "Python 2",
   "language": "python",
   "name": "python2"
  },
  "language_info": {
   "codemirror_mode": {
    "name": "ipython",
    "version": 2
   },
   "file_extension": ".py",
   "mimetype": "text/x-python",
   "name": "python",
   "nbconvert_exporter": "python",
   "pygments_lexer": "ipython2",
   "version": "2.7.11+"
  }
 },
 "nbformat": 4,
 "nbformat_minor": 0
}
